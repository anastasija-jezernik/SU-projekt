{
 "cells": [
  {
   "cell_type": "code",
   "execution_count": 2,
   "metadata": {},
   "outputs": [],
   "source": [
    "import pandas as pd\n",
    "import matplotlib.pyplot as plt\n",
    "import numpy as np\n",
    "from time import time\n",
    "\n",
    "from sklearn.model_selection import train_test_split\n",
    "from sklearn.pipeline import Pipeline\n",
    "from sklearn import svm\n",
    "from sklearn.model_selection import GridSearchCV\n",
    "\n",
    "from sklearn.metrics import accuracy_score, f1_score,  classification_report, confusion_matrix, roc_auc_score\n",
    "from sklearn.metrics import roc_curve, auc,recall_score,precision_score, average_precision_score, mean_squared_error\n",
    "from sklearn.model_selection import RepeatedStratifiedKFold\n",
    "\n",
    "from sklearn.decomposition import PCA\n",
    "\n",
    "from sklearn.model_selection import StratifiedKFold\n",
    "from sklearn.model_selection import cross_val_score\n",
    "\n",
    "from sklearn.preprocessing import StandardScaler "
   ]
  },
  {
   "cell_type": "code",
   "execution_count": 4,
   "metadata": {},
   "outputs": [
    {
     "data": {
      "text/html": [
       "<div>\n",
       "<style scoped>\n",
       "    .dataframe tbody tr th:only-of-type {\n",
       "        vertical-align: middle;\n",
       "    }\n",
       "\n",
       "    .dataframe tbody tr th {\n",
       "        vertical-align: top;\n",
       "    }\n",
       "\n",
       "    .dataframe thead th {\n",
       "        text-align: right;\n",
       "    }\n",
       "</style>\n",
       "<table border=\"1\" class=\"dataframe\">\n",
       "  <thead>\n",
       "    <tr style=\"text-align: right;\">\n",
       "      <th></th>\n",
       "      <th>fLength</th>\n",
       "      <th>fWidth</th>\n",
       "      <th>fSize</th>\n",
       "      <th>fConc</th>\n",
       "      <th>fConc1</th>\n",
       "      <th>fAsym</th>\n",
       "      <th>fM3Long</th>\n",
       "      <th>fM3Trans</th>\n",
       "      <th>fAlpha</th>\n",
       "      <th>fDist</th>\n",
       "    </tr>\n",
       "  </thead>\n",
       "  <tbody>\n",
       "    <tr>\n",
       "      <th>0</th>\n",
       "      <td>28.7967</td>\n",
       "      <td>16.0021</td>\n",
       "      <td>2.6449</td>\n",
       "      <td>0.3918</td>\n",
       "      <td>0.1982</td>\n",
       "      <td>27.7004</td>\n",
       "      <td>22.0110</td>\n",
       "      <td>-8.2027</td>\n",
       "      <td>40.0920</td>\n",
       "      <td>81.8828</td>\n",
       "    </tr>\n",
       "    <tr>\n",
       "      <th>1</th>\n",
       "      <td>31.6036</td>\n",
       "      <td>11.7235</td>\n",
       "      <td>2.5185</td>\n",
       "      <td>0.5303</td>\n",
       "      <td>0.3773</td>\n",
       "      <td>26.2722</td>\n",
       "      <td>23.8238</td>\n",
       "      <td>-9.9574</td>\n",
       "      <td>6.3609</td>\n",
       "      <td>205.2610</td>\n",
       "    </tr>\n",
       "    <tr>\n",
       "      <th>2</th>\n",
       "      <td>162.0520</td>\n",
       "      <td>136.0310</td>\n",
       "      <td>4.0612</td>\n",
       "      <td>0.0374</td>\n",
       "      <td>0.0187</td>\n",
       "      <td>116.7410</td>\n",
       "      <td>-64.8580</td>\n",
       "      <td>-45.2160</td>\n",
       "      <td>76.9600</td>\n",
       "      <td>256.7880</td>\n",
       "    </tr>\n",
       "    <tr>\n",
       "      <th>3</th>\n",
       "      <td>23.8172</td>\n",
       "      <td>9.5728</td>\n",
       "      <td>2.3385</td>\n",
       "      <td>0.6147</td>\n",
       "      <td>0.3922</td>\n",
       "      <td>27.2107</td>\n",
       "      <td>-6.4633</td>\n",
       "      <td>-7.1513</td>\n",
       "      <td>10.4490</td>\n",
       "      <td>116.7370</td>\n",
       "    </tr>\n",
       "    <tr>\n",
       "      <th>4</th>\n",
       "      <td>75.1362</td>\n",
       "      <td>30.9205</td>\n",
       "      <td>3.1611</td>\n",
       "      <td>0.3168</td>\n",
       "      <td>0.1832</td>\n",
       "      <td>-5.5277</td>\n",
       "      <td>28.5525</td>\n",
       "      <td>21.8393</td>\n",
       "      <td>4.6480</td>\n",
       "      <td>356.4620</td>\n",
       "    </tr>\n",
       "  </tbody>\n",
       "</table>\n",
       "</div>"
      ],
      "text/plain": [
       "    fLength    fWidth   fSize   fConc  fConc1     fAsym  fM3Long  fM3Trans  \\\n",
       "0   28.7967   16.0021  2.6449  0.3918  0.1982   27.7004  22.0110   -8.2027   \n",
       "1   31.6036   11.7235  2.5185  0.5303  0.3773   26.2722  23.8238   -9.9574   \n",
       "2  162.0520  136.0310  4.0612  0.0374  0.0187  116.7410 -64.8580  -45.2160   \n",
       "3   23.8172    9.5728  2.3385  0.6147  0.3922   27.2107  -6.4633   -7.1513   \n",
       "4   75.1362   30.9205  3.1611  0.3168  0.1832   -5.5277  28.5525   21.8393   \n",
       "\n",
       "    fAlpha     fDist  \n",
       "0  40.0920   81.8828  \n",
       "1   6.3609  205.2610  \n",
       "2  76.9600  256.7880  \n",
       "3  10.4490  116.7370  \n",
       "4   4.6480  356.4620  "
      ]
     },
     "execution_count": 4,
     "metadata": {},
     "output_type": "execute_result"
    }
   ],
   "source": [
    "X=pd.read_csv('gamma.csv')\n",
    "X['class'] = X['class'].replace(['h', 'g'], [0, 1])\n",
    "y = X[['class']]\n",
    "X = X.drop(['class'], axis=1)\n",
    "X.head(5)"
   ]
  },
  {
   "cell_type": "code",
   "execution_count": 5,
   "metadata": {},
   "outputs": [
    {
     "data": {
      "text/html": [
       "<div>\n",
       "<style scoped>\n",
       "    .dataframe tbody tr th:only-of-type {\n",
       "        vertical-align: middle;\n",
       "    }\n",
       "\n",
       "    .dataframe tbody tr th {\n",
       "        vertical-align: top;\n",
       "    }\n",
       "\n",
       "    .dataframe thead th {\n",
       "        text-align: right;\n",
       "    }\n",
       "</style>\n",
       "<table border=\"1\" class=\"dataframe\">\n",
       "  <thead>\n",
       "    <tr style=\"text-align: right;\">\n",
       "      <th></th>\n",
       "      <th>class</th>\n",
       "    </tr>\n",
       "  </thead>\n",
       "  <tbody>\n",
       "    <tr>\n",
       "      <th>0</th>\n",
       "      <td>1</td>\n",
       "    </tr>\n",
       "    <tr>\n",
       "      <th>1</th>\n",
       "      <td>1</td>\n",
       "    </tr>\n",
       "    <tr>\n",
       "      <th>2</th>\n",
       "      <td>1</td>\n",
       "    </tr>\n",
       "    <tr>\n",
       "      <th>3</th>\n",
       "      <td>1</td>\n",
       "    </tr>\n",
       "    <tr>\n",
       "      <th>4</th>\n",
       "      <td>1</td>\n",
       "    </tr>\n",
       "  </tbody>\n",
       "</table>\n",
       "</div>"
      ],
      "text/plain": [
       "   class\n",
       "0      1\n",
       "1      1\n",
       "2      1\n",
       "3      1\n",
       "4      1"
      ]
     },
     "execution_count": 5,
     "metadata": {},
     "output_type": "execute_result"
    }
   ],
   "source": [
    "y.head(5)"
   ]
  },
  {
   "cell_type": "code",
   "execution_count": 16,
   "metadata": {},
   "outputs": [
    {
     "data": {
      "text/plain": [
       "((13314, 10), (5706, 10), (13314, 1), (5706, 1))"
      ]
     },
     "execution_count": 16,
     "metadata": {},
     "output_type": "execute_result"
    }
   ],
   "source": [
    "X_train, X_test, y_train, y_test = train_test_split(X, y, test_size=0.30, random_state=42)\n",
    "\n",
    "X_train.shape, X_test.shape, y_train.shape, y_test.shape"
   ]
  },
  {
   "cell_type": "code",
   "execution_count": 7,
   "metadata": {},
   "outputs": [
    {
     "data": {
      "text/plain": [
       "1    8627\n",
       "0    4687\n",
       "Name: class, dtype: int64"
      ]
     },
     "execution_count": 7,
     "metadata": {},
     "output_type": "execute_result"
    }
   ],
   "source": [
    "y_train['class'].value_counts()"
   ]
  },
  {
   "cell_type": "markdown",
   "metadata": {},
   "source": [
    "Najjednostavniji model - gama i C automatski"
   ]
  },
  {
   "cell_type": "code",
   "execution_count": 6,
   "metadata": {},
   "outputs": [
    {
     "name": "stdout",
     "output_type": "stream",
     "text": [
      "Accuracy: 0.6584297230984928\n"
     ]
    }
   ],
   "source": [
    "kernel = 'rbf'\n",
    "model1 = Pipeline([('SVM', svm.SVC(kernel=kernel, probability=True, gamma='auto'))]) \n",
    "model1.fit(X_train, y_train['class'])\n",
    "accuracy_test1 = model1.score(X_test, y_test['class'])\n",
    "print(\"Accuracy: \" + str(accuracy_test1))"
   ]
  },
  {
   "cell_type": "code",
   "execution_count": 10,
   "metadata": {},
   "outputs": [],
   "source": [
    "def plot_roc_curve(fpr, tpr, auc_score):\n",
    "    plt.plot(fpr, tpr, color='orange', label='ROC curve (area = %0.2f)' % auc_score)\n",
    "    plt.plot([0, 1], [0, 1], color='darkblue', linestyle='--')\n",
    "    plt.xlabel('False Positive Rate')\n",
    "    plt.ylabel('True Positive Rate')\n",
    "    plt.title('Receiver Operating Characteristic (ROC) Curve')\n",
    "    plt.legend()\n",
    "    plt.show()"
   ]
  },
  {
   "cell_type": "code",
   "execution_count": 9,
   "metadata": {},
   "outputs": [
    {
     "name": "stdout",
     "output_type": "stream",
     "text": [
      "AUC: 0.754\n"
     ]
    },
    {
     "data": {
      "image/png": "[encoded data removed]",
      "text/plain": [
       "<Figure size 432x288 with 1 Axes>"
      ]
     },
     "metadata": {
      "needs_background": "light"
     },
     "output_type": "display_data"
    }
   ],
   "source": [
    "probs = model1.predict_proba(X_test)\n",
    "\n",
    "probs = probs[:, 1]\n",
    "\n",
    "auc = roc_auc_score(y_test['class'], probs)\n",
    "print('AUC: %.3f' % auc)\n",
    "\n",
    "fpr, tpr, thresholds = roc_curve(y_test['class'], probs)\n",
    "\n",
    "plot_roc_curve(fpr, tpr, auc) "
   ]
  },
  {
   "cell_type": "code",
   "execution_count": 15,
   "metadata": {},
   "outputs": [
    {
     "name": "stdout",
     "output_type": "stream",
     "text": [
      "F1 score: 0.42289007645910953\n",
      "Precision: 0.709021220903057\n",
      "Recall: 0.5120636038256176\n"
     ]
    }
   ],
   "source": [
    "print(\"F1 score: \", end = \"\")\n",
    "print(f1_score(y_test['class'], probs.round(), average = \"macro\"))\n",
    "print(\"Precision: \", end = \"\")\n",
    "print(precision_score(y_test['class'], probs.round(), average=\"macro\"))\n",
    "print(\"Recall: \", end = \"\")\n",
    "print(recall_score(y_test['class'], probs.round(), average=\"macro\"))"
   ]
  },
  {
   "cell_type": "markdown",
   "metadata": {},
   "source": [
    "Grid search"
   ]
  },
  {
   "cell_type": "code",
   "execution_count": 16,
   "metadata": {},
   "outputs": [
    {
     "name": "stdout",
     "output_type": "stream",
     "text": [
      "Performing grid search...\n",
      "pipeline: ['SVM']\n",
      "parameters:\n",
      "{'SVM__C': (1.0, 10.0, 100.0, 1000.0), 'SVM__gamma': (0.001, 0.01, 0.1, 1.0)}\n",
      "Fitting 3 folds for each of 16 candidates, totalling 48 fits\n"
     ]
    },
    {
     "name": "stderr",
     "output_type": "stream",
     "text": [
      "[Parallel(n_jobs=-1)]: Using backend LokyBackend with 4 concurrent workers.\n",
      "[Parallel(n_jobs=-1)]: Done  48 out of  48 | elapsed: 46.0min finished\n"
     ]
    },
    {
     "name": "stdout",
     "output_type": "stream",
     "text": [
      "done in 2976.823s\n",
      "\n",
      "Best score: 0.868\n",
      "Best parameters set:\n",
      "\tSVM__C: 1.0\n",
      "\tSVM__gamma: 0.001\n"
     ]
    }
   ],
   "source": [
    "pipeline = Pipeline([('SVM', svm.SVC(kernel='rbf',probability=True))])\n",
    "\n",
    "parameters = {\n",
    "    'SVM__C':(1.0,10.0,100.0,1000.0),\n",
    "    'SVM__gamma':(0.001,0.01,0.1,1.0)\n",
    "}\n",
    "\n",
    "if __name__ == \"__main__\":\n",
    "    # multiprocessing requires the fork to happen in a __main__ protected block\n",
    "    grid_search = GridSearchCV(pipeline, parameters, cv=3, n_jobs=-1, verbose=1, scoring='roc_auc')\n",
    "\n",
    "    print(\"Performing grid search...\")\n",
    "    print(\"pipeline:\", [name for name, _ in pipeline.steps])\n",
    "    print(\"parameters:\")\n",
    "    print(parameters)\n",
    "    t0 = time()\n",
    "    grid_search.fit(X_train, y_train['class'])\n",
    "    print(\"done in %0.3fs\" % (time() - t0))\n",
    "    print()\n",
    "\n",
    "    print(\"Best score: %0.3f\" % grid_search.best_score_) \n",
    "    print(\"Best parameters set:\")\n",
    "    best_parameters = grid_search.best_estimator_.get_params()\n",
    "    for param_name in sorted(parameters.keys()):\n",
    "        print(\"\\t%s: %r\" % (param_name, best_parameters[param_name]))"
   ]
  },
  {
   "cell_type": "code",
   "execution_count": 8,
   "metadata": {},
   "outputs": [
    {
     "name": "stdout",
     "output_type": "stream",
     "text": [
      "Accuracy: 0.8333333333333334\n"
     ]
    }
   ],
   "source": [
    "kernel = 'rbf'\n",
    "model2 = Pipeline([('SVM', svm.SVC(kernel=kernel, probability=True, gamma = 0.001, C = 1))]) \n",
    "model2.fit(X_train, y_train['class'])\n",
    "accuracy_test2 = model2.score(X_test, y_test['class'])\n",
    "print(\"Accuracy: \" + str(accuracy_test2))"
   ]
  },
  {
   "cell_type": "code",
   "execution_count": 11,
   "metadata": {},
   "outputs": [
    {
     "name": "stdout",
     "output_type": "stream",
     "text": [
      "AUC: 0.873\n"
     ]
    },
    {
     "data": {
      "image/png": "[encoded data removed]",
      "text/plain": [
       "<Figure size 432x288 with 1 Axes>"
      ]
     },
     "metadata": {
      "needs_background": "light"
     },
     "output_type": "display_data"
    }
   ],
   "source": [
    "probs = model2.predict_proba(X_test)\n",
    "\n",
    "probs = probs[:, 1]\n",
    "\n",
    "auc = roc_auc_score(y_test['class'], probs)\n",
    "print('AUC: %.3f' % auc)\n",
    "\n",
    "fpr, tpr, thresholds = roc_curve(y_test['class'], probs)\n",
    "plot_roc_curve(fpr, tpr, auc)  "
   ]
  },
  {
   "cell_type": "code",
   "execution_count": 12,
   "metadata": {},
   "outputs": [
    {
     "name": "stdout",
     "output_type": "stream",
     "text": [
      "F1 score: 0.8075015117881442\n",
      "Precision: 0.8265521646367971\n",
      "Recall: 0.7963605241913456\n"
     ]
    }
   ],
   "source": [
    "print(\"F1 score: \", end = \"\")\n",
    "print(f1_score(y_test['class'], probs.round(), average = \"macro\"))\n",
    "print(\"Precision: \", end = \"\")\n",
    "print(precision_score(y_test['class'], probs.round(), average=\"macro\"))\n",
    "print(\"Recall: \", end = \"\")\n",
    "print(recall_score(y_test['class'], probs.round(), average=\"macro\"))"
   ]
  },
  {
   "cell_type": "markdown",
   "metadata": {},
   "source": [
    "Normalizacija"
   ]
  },
  {
   "cell_type": "code",
   "execution_count": 18,
   "metadata": {},
   "outputs": [
    {
     "data": {
      "text/plain": [
       "(array([[-0.27269443, -0.41339656, -0.13204654, ..., -0.49812626,\n",
       "          0.86994487, -1.23933553],\n",
       "        [-0.69324657, -0.45297203, -1.01655052, ...,  0.22858557,\n",
       "         -0.89852095,  0.56909058],\n",
       "        [-0.78242468, -0.81324093, -1.46713892, ..., -0.27176112,\n",
       "         -0.35744719, -1.51704886],\n",
       "        ...,\n",
       "        [-0.78709036, -0.55330851, -0.82660693, ...,  0.44548023,\n",
       "         -0.56794811, -0.00632743],\n",
       "        [-0.51749418,  0.057059  ,  0.22568055, ...,  0.91837548,\n",
       "          1.99692134, -2.28319308],\n",
       "        [-0.05938803, -0.63577378, -0.63877382, ..., -0.63879146,\n",
       "          1.2226974 , -0.47944594]]),\n",
       " array([[-0.12577265, -0.60793226,  0.27443274, ..., -0.1178814 ,\n",
       "         -0.02746224, -0.38882317],\n",
       "        [-0.70477645, -1.21326002, -1.2404729 , ..., -0.00751405,\n",
       "         -0.31717253,  0.54667638],\n",
       "        [-0.30284227, -0.15358427,  1.07873831, ..., -0.34948818,\n",
       "         -0.67131082,  0.01648703],\n",
       "        ...,\n",
       "        [-0.68785276, -0.66498581, -0.48386428, ...,  0.37728125,\n",
       "         -0.20606411, -1.31222572],\n",
       "        [-0.76637756, -0.53568847, -1.06108174, ..., -0.51350559,\n",
       "         -0.14813351,  0.00961601],\n",
       "        [ 1.00853897,  0.02211923,  0.18157143, ..., -0.53757779,\n",
       "          0.96333626, -1.29345516]]))"
      ]
     },
     "execution_count": 18,
     "metadata": {},
     "output_type": "execute_result"
    }
   ],
   "source": [
    "scaler = StandardScaler()  \n",
    "\n",
    "scaler.fit(X_train)\n",
    "X_train_norm = scaler.transform(X_train)  \n",
    "X_test_norm = scaler.transform(X_test)\n",
    "\n",
    "X_train_norm, X_test_norm"
   ]
  },
  {
   "cell_type": "code",
   "execution_count": 21,
   "metadata": {},
   "outputs": [
    {
     "name": "stdout",
     "output_type": "stream",
     "text": [
      "Accuracy: 0.8671573781983877\n"
     ]
    }
   ],
   "source": [
    "kernel = 'rbf'\n",
    "model3 = Pipeline([('SVM', svm.SVC(kernel=kernel, probability=True, gamma = 'auto'))]) \n",
    "model3.fit(X_train_norm, y_train['class'])\n",
    "accuracy_test3 = model3.score(X_test_norm, y_test['class'])\n",
    "print(\"Accuracy: \" + str(accuracy_test3))"
   ]
  },
  {
   "cell_type": "code",
   "execution_count": 23,
   "metadata": {},
   "outputs": [
    {
     "name": "stdout",
     "output_type": "stream",
     "text": [
      "AUC: 0.915\n"
     ]
    },
    {
     "data": {
      "image/png": "[encoded data removed]",
      "text/plain": [
       "<Figure size 432x288 with 1 Axes>"
      ]
     },
     "metadata": {
      "needs_background": "light"
     },
     "output_type": "display_data"
    }
   ],
   "source": [
    "probs = model3.predict_proba(X_test_norm)\n",
    "\n",
    "probs = probs[:, 1]\n",
    "\n",
    "auc = roc_auc_score(y_test['class'], probs)\n",
    "print('AUC: %.3f' % auc)\n",
    "\n",
    "fpr, tpr, thresholds = roc_curve(y_test['class'], probs)\n",
    "plot_roc_curve(fpr, tpr, auc)  "
   ]
  },
  {
   "cell_type": "code",
   "execution_count": 24,
   "metadata": {},
   "outputs": [
    {
     "name": "stdout",
     "output_type": "stream",
     "text": [
      "F1 score: 0.8564836472688906\n",
      "Precision: 0.8741133019622893\n",
      "Recall: 0.8450481237114236\n"
     ]
    }
   ],
   "source": [
    "print(\"F1 score: \", end = \"\")\n",
    "print(f1_score(y_test['class'], probs.round(), average = \"macro\"))\n",
    "print(\"Precision: \", end = \"\")\n",
    "print(precision_score(y_test['class'], probs.round(), average=\"macro\"))\n",
    "print(\"Recall: \", end = \"\")\n",
    "print(recall_score(y_test['class'], probs.round(), average=\"macro\"))"
   ]
  },
  {
   "cell_type": "markdown",
   "metadata": {},
   "source": [
    "Grid search i normalizacija"
   ]
  },
  {
   "cell_type": "code",
   "execution_count": 25,
   "metadata": {},
   "outputs": [
    {
     "name": "stdout",
     "output_type": "stream",
     "text": [
      "Performing grid search...\n",
      "pipeline: ['SVM']\n",
      "parameters:\n",
      "{'SVM__C': (1.0, 10.0, 100.0, 1000.0), 'SVM__gamma': (0.001, 0.01, 0.1, 1.0)}\n",
      "Fitting 3 folds for each of 16 candidates, totalling 48 fits\n"
     ]
    },
    {
     "name": "stderr",
     "output_type": "stream",
     "text": [
      "[Parallel(n_jobs=-1)]: Using backend LokyBackend with 4 concurrent workers.\n",
      "[Parallel(n_jobs=-1)]: Done  48 out of  48 | elapsed: 24.6min finished\n"
     ]
    },
    {
     "name": "stdout",
     "output_type": "stream",
     "text": [
      "done in 1762.880s\n",
      "\n",
      "Best score: 0.923\n",
      "Best parameters set:\n",
      "\tSVM__C: 100.0\n",
      "\tSVM__gamma: 0.1\n"
     ]
    }
   ],
   "source": [
    "pipeline = Pipeline([('SVM', svm.SVC(kernel='rbf',probability=True))])\n",
    "\n",
    "parameters = {\n",
    "    'SVM__C':(1.0,10.0,100.0,1000.0),\n",
    "    'SVM__gamma':(0.001,0.01,0.1,1.0)\n",
    "}\n",
    "\n",
    "if __name__ == \"__main__\":\n",
    "    # multiprocessing requires the fork to happen in a __main__ protected block\n",
    "    grid_search = GridSearchCV(pipeline, parameters, cv=3, n_jobs=-1, verbose=1, scoring='roc_auc')\n",
    "\n",
    "    print(\"Performing grid search...\")\n",
    "    print(\"pipeline:\", [name for name, _ in pipeline.steps])\n",
    "    print(\"parameters:\")\n",
    "    print(parameters)\n",
    "    t0 = time()\n",
    "    grid_search.fit(X_train_norm, y_train['class'])\n",
    "    print(\"done in %0.3fs\" % (time() - t0))\n",
    "    print()\n",
    "\n",
    "    print(\"Best score: %0.3f\" % grid_search.best_score_) \n",
    "    print(\"Best parameters set:\")\n",
    "    best_parameters = grid_search.best_estimator_.get_params()\n",
    "    for param_name in sorted(parameters.keys()):\n",
    "        print(\"\\t%s: %r\" % (param_name, best_parameters[param_name]))"
   ]
  },
  {
   "cell_type": "code",
   "execution_count": 26,
   "metadata": {},
   "outputs": [
    {
     "name": "stdout",
     "output_type": "stream",
     "text": [
      "Accuracy: 0.8787241500175255\n"
     ]
    }
   ],
   "source": [
    "kernel = 'rbf'\n",
    "model4 = Pipeline([('SVM', svm.SVC(kernel=kernel, probability=True, gamma = 0.1, C = 100))]) \n",
    "model4.fit(X_train_norm, y_train['class'])\n",
    "accuracy_test4 = model4.score(X_test_norm, y_test['class'])\n",
    "print(\"Accuracy: \" + str(accuracy_test4))"
   ]
  },
  {
   "cell_type": "code",
   "execution_count": 28,
   "metadata": {},
   "outputs": [
    {
     "name": "stdout",
     "output_type": "stream",
     "text": [
      "AUC: 0.923\n"
     ]
    },
    {
     "data": {
      "image/png": "[encoded data removed]",
      "text/plain": [
       "<Figure size 432x288 with 1 Axes>"
      ]
     },
     "metadata": {
      "needs_background": "light"
     },
     "output_type": "display_data"
    }
   ],
   "source": [
    "probs = model4.predict_proba(X_test_norm)\n",
    "\n",
    "probs = probs[:, 1]\n",
    "\n",
    "auc = roc_auc_score(y_test['class'], probs)\n",
    "print('AUC: %.3f' % auc)\n",
    "\n",
    "fpr, tpr, thresholds = roc_curve(y_test['class'], probs)\n",
    "plot_roc_curve(fpr, tpr, auc)  "
   ]
  },
  {
   "cell_type": "code",
   "execution_count": 29,
   "metadata": {},
   "outputs": [
    {
     "name": "stdout",
     "output_type": "stream",
     "text": [
      "F1 score: 0.8604931223958807\n",
      "Precision: 0.8886012076126456\n",
      "Recall: 0.8447496899323617\n"
     ]
    }
   ],
   "source": [
    "print(\"F1 score: \", end = \"\")\n",
    "print(f1_score(y_test['class'], probs.round(), average = \"macro\"))\n",
    "print(\"Precision: \", end = \"\")\n",
    "print(precision_score(y_test['class'], probs.round(), average=\"macro\"))\n",
    "print(\"Recall: \", end = \"\")\n",
    "print(recall_score(y_test['class'], probs.round(), average=\"macro\"))"
   ]
  },
  {
   "cell_type": "code",
   "execution_count": null,
   "metadata": {},
   "outputs": [],
   "source": []
  }
 ],
 "metadata": {
  "kernelspec": {
   "display_name": "Python 3",
   "language": "python",
   "name": "python3"
  },
  "language_info": {
   "codemirror_mode": {
    "name": "ipython",
    "version": 3
   },
   "file_extension": ".py",
   "mimetype": "text/x-python",
   "name": "python",
   "nbconvert_exporter": "python",
   "pygments_lexer": "ipython3",
   "version": "3.7.3"
  }
 },
 "nbformat": 4,
 "nbformat_minor": 2
}
